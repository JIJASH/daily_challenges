{
  "nbformat": 4,
  "nbformat_minor": 0,
  "metadata": {
    "colab": {
      "provenance": [],
      "authorship_tag": "ABX9TyOAIlbM/CzfKH/Y1hGLwKQJ",
      "include_colab_link": true
    },
    "kernelspec": {
      "name": "python3",
      "display_name": "Python 3"
    },
    "language_info": {
      "name": "python"
    }
  },
  "cells": [
    {
      "cell_type": "markdown",
      "metadata": {
        "id": "view-in-github",
        "colab_type": "text"
      },
      "source": [
        "<a href=\"https://colab.research.google.com/github/JIJASH/daily_challenges/blob/main/task_2.ipynb\" target=\"_parent\"><img src=\"https://colab.research.google.com/assets/colab-badge.svg\" alt=\"Open In Colab\"/></a>"
      ]
    },
    {
      "cell_type": "markdown",
      "source": [
        "##Task - 2 : 🧠 Daily DSA Challenge: \"Top K Frequent Words\"\n",
        "\n",
        "💡 Task: Given a list of strings (words), return the k most frequent words, sorted by frequency (and alphabetically for ties). 📝 Input: words = [\"apple\", \"banana\", \"apple\", \"orange\", \"banana\", \"apple\", \"mango\"] k = 2 🎯 Expected Output: [\"apple\", \"banana\"] Apple appears 3 times Banana appears 2 times Orange & Mango appear once"
      ],
      "metadata": {
        "id": "PRTO-Eo161Ce"
      }
    },
    {
      "cell_type": "code",
      "execution_count": 9,
      "metadata": {
        "colab": {
          "base_uri": "https://localhost:8080/"
        },
        "id": "OHJOwKY23SIO",
        "outputId": "6e971913-98b4-4a87-9aa3-9c8704e3f276"
      },
      "outputs": [
        {
          "output_type": "execute_result",
          "data": {
            "text/plain": [
              "{'apple': 3, 'banana': 2, 'orange': 1, 'mango': 1}"
            ]
          },
          "metadata": {},
          "execution_count": 9
        }
      ],
      "source": [
        "words = [\"apple\", \"banana\", \"apple\", \"orange\", \"banana\", \"apple\", \"mango\"]\n",
        "k = 2\n",
        "\n",
        "freq = {}\n",
        "for word in words:\n",
        "  if word in freq:\n",
        "    freq[word] += 1\n",
        "  else:\n",
        "    freq[word] = 1\n",
        "\n",
        "freq"
      ]
    },
    {
      "cell_type": "code",
      "source": [
        "items = list(freq.items())\n",
        "items"
      ],
      "metadata": {
        "colab": {
          "base_uri": "https://localhost:8080/"
        },
        "id": "inWJ1wwf5Uoq",
        "outputId": "cae93e55-3884-4ed5-b08e-7212b7309a8d"
      },
      "execution_count": 10,
      "outputs": [
        {
          "output_type": "execute_result",
          "data": {
            "text/plain": [
              "[('apple', 3), ('banana', 2), ('orange', 1), ('mango', 1)]"
            ]
          },
          "metadata": {},
          "execution_count": 10
        }
      ]
    },
    {
      "cell_type": "code",
      "source": [
        "sorted_items = sorted(items, key=lambda x: (x[0], -x[1]))\n",
        "sorted_items"
      ],
      "metadata": {
        "colab": {
          "base_uri": "https://localhost:8080/"
        },
        "id": "aEFwewKL5d4Z",
        "outputId": "be113652-6880-4010-d9b4-095e7b84e477"
      },
      "execution_count": 11,
      "outputs": [
        {
          "output_type": "execute_result",
          "data": {
            "text/plain": [
              "[('apple', 3), ('banana', 2), ('mango', 1), ('orange', 1)]"
            ]
          },
          "metadata": {},
          "execution_count": 11
        }
      ]
    },
    {
      "cell_type": "code",
      "source": [
        "top_k = [word for word, count in sorted_items[:k]]\n",
        "print(top_k)\n",
        "for word, count in freq.items():\n",
        "    if count == 1:\n",
        "        print(f\"{word.capitalize()} appears once\")\n",
        "    else:\n",
        "        print(f\"{word.capitalize()} appears {count} times\")\n"
      ],
      "metadata": {
        "colab": {
          "base_uri": "https://localhost:8080/"
        },
        "id": "jaTPb9yx6Vpr",
        "outputId": "6628641e-f00c-4312-ac6c-351d2b7986f4"
      },
      "execution_count": 12,
      "outputs": [
        {
          "output_type": "stream",
          "name": "stdout",
          "text": [
            "['apple', 'banana']\n",
            "Apple appears 3 times\n",
            "Banana appears 2 times\n",
            "Orange appears once\n",
            "Mango appears once\n"
          ]
        }
      ]
    }
  ]
}