{
  "nbformat": 4,
  "nbformat_minor": 0,
  "metadata": {
    "colab": {
      "provenance": [],
      "authorship_tag": "ABX9TyNdIdhqX39EGQtTia1RwVg8",
      "include_colab_link": true
    },
    "kernelspec": {
      "name": "python3",
      "display_name": "Python 3"
    },
    "language_info": {
      "name": "python"
    }
  },
  "cells": [
    {
      "cell_type": "markdown",
      "metadata": {
        "id": "view-in-github",
        "colab_type": "text"
      },
      "source": [
        "<a href=\"https://colab.research.google.com/github/JIJASH/daily_challenges/blob/main/task_1.ipynb\" target=\"_parent\"><img src=\"https://colab.research.google.com/assets/colab-badge.svg\" alt=\"Open In Colab\"/></a>"
      ]
    },
    {
      "cell_type": "markdown",
      "source": [
        "##Day 1: Numpy Matrix Ops\n",
        "###Problem: 📘 Problem Description:\n",
        "\n",
        "You're given two 2D matrices A and B. Write a function to compute the matrix product C = A × B without using any of the following:\n",
        "    @ operator\n",
        "    np.dot()\n",
        "    np.matmul()\n",
        "\n",
        "Instead, use basic Python for loops and NumPy indexing to implement the multiplication manually."
      ],
      "metadata": {
        "id": "p7yxpWzh13f0"
      }
    },
    {
      "cell_type": "code",
      "execution_count": null,
      "metadata": {
        "id": "AJ-CAgIXiZX0"
      },
      "outputs": [],
      "source": [
        "import numpy as np"
      ]
    },
    {
      "cell_type": "code",
      "source": [
        "def matrix(A, B):\n",
        "\n",
        "  rowA, colA = A.shape\n",
        "  rowB, colB = B.shape\n",
        "\n",
        "  if colA != rowB:\n",
        "    raise ValueError(\"shape of col A and row B must be same\")\n",
        "\n",
        "  C = np.zeros((rowA, colB), dtype = A.dtype)\n",
        "\n",
        "  for i in range(rowA):\n",
        "    for j in range(colB):\n",
        "      s = 0\n",
        "      for k in range(colA):\n",
        "        s += A[i, k] * B[k,j]\n",
        "      C[i, j] = s\n",
        "  return C\n"
      ],
      "metadata": {
        "id": "9D-IEHrLi4D8"
      },
      "execution_count": null,
      "outputs": []
    },
    {
      "cell_type": "code",
      "source": [
        "A = np.array([[8, 9], [4, 5]])\n",
        "B = np.array([[1, 2], [5, 6]])\n",
        "C = matrix(A, B)\n",
        "print(C)"
      ],
      "metadata": {
        "colab": {
          "base_uri": "https://localhost:8080/"
        },
        "id": "h9t600eWn43S",
        "outputId": "ee611236-4086-4c8b-866a-481729e04803"
      },
      "execution_count": null,
      "outputs": [
        {
          "output_type": "stream",
          "name": "stdout",
          "text": [
            "[[53 70]\n",
            " [29 38]]\n"
          ]
        }
      ]
    },
    {
      "cell_type": "code",
      "source": [],
      "metadata": {
        "id": "kI3Kb2mRoBCR"
      },
      "execution_count": null,
      "outputs": []
    }
  ]
}